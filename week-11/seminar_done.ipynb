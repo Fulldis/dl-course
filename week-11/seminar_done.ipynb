{
  "nbformat": 4,
  "nbformat_minor": 0,
  "metadata": {
    "colab": {
      "name": "seminar_done",
      "provenance": [],
      "collapsed_sections": []
    },
    "kernelspec": {
      "display_name": "Python 3",
      "language": "python",
      "name": "python3"
    },
    "language_info": {
      "codemirror_mode": {
        "name": "ipython",
        "version": 3
      },
      "file_extension": ".py",
      "mimetype": "text/x-python",
      "name": "python",
      "nbconvert_exporter": "python",
      "pygments_lexer": "ipython3",
      "version": "3.7.7"
    },
    "widgets": {
      "application/vnd.jupyter.widget-state+json": {
        "11f09a5db055458c97c3aee61815a911": {
          "model_module": "@jupyter-widgets/controls",
          "model_name": "HBoxModel",
          "model_module_version": "1.5.0",
          "state": {
            "_view_name": "HBoxView",
            "_dom_classes": [],
            "_model_name": "HBoxModel",
            "_view_module": "@jupyter-widgets/controls",
            "_model_module_version": "1.5.0",
            "_view_count": null,
            "_view_module_version": "1.5.0",
            "box_style": "",
            "layout": "IPY_MODEL_ed86db49d27049089d56aa28c8deafa5",
            "_model_module": "@jupyter-widgets/controls",
            "children": [
              "IPY_MODEL_4b1bbc8cd2c4451095047a013e3131f9",
              "IPY_MODEL_f4d120fe473a47488522e2eed012c39a",
              "IPY_MODEL_e8ea8d4b43b74c99a42013b4c3270a42"
            ]
          }
        },
        "ed86db49d27049089d56aa28c8deafa5": {
          "model_module": "@jupyter-widgets/base",
          "model_name": "LayoutModel",
          "model_module_version": "1.2.0",
          "state": {
            "_view_name": "LayoutView",
            "grid_template_rows": null,
            "right": null,
            "justify_content": null,
            "_view_module": "@jupyter-widgets/base",
            "overflow": null,
            "_model_module_version": "1.2.0",
            "_view_count": null,
            "flex_flow": null,
            "width": null,
            "min_width": null,
            "border": null,
            "align_items": null,
            "bottom": null,
            "_model_module": "@jupyter-widgets/base",
            "top": null,
            "grid_column": null,
            "overflow_y": null,
            "overflow_x": null,
            "grid_auto_flow": null,
            "grid_area": null,
            "grid_template_columns": null,
            "flex": null,
            "_model_name": "LayoutModel",
            "justify_items": null,
            "grid_row": null,
            "max_height": null,
            "align_content": null,
            "visibility": null,
            "align_self": null,
            "height": null,
            "min_height": null,
            "padding": null,
            "grid_auto_rows": null,
            "grid_gap": null,
            "max_width": null,
            "order": null,
            "_view_module_version": "1.2.0",
            "grid_template_areas": null,
            "object_position": null,
            "object_fit": null,
            "grid_auto_columns": null,
            "margin": null,
            "display": null,
            "left": null
          }
        },
        "4b1bbc8cd2c4451095047a013e3131f9": {
          "model_module": "@jupyter-widgets/controls",
          "model_name": "HTMLModel",
          "model_module_version": "1.5.0",
          "state": {
            "_view_name": "HTMLView",
            "style": "IPY_MODEL_87cd6b3bcf3844f980f6304dbc863329",
            "_dom_classes": [],
            "description": "",
            "_model_name": "HTMLModel",
            "placeholder": "​",
            "_view_module": "@jupyter-widgets/controls",
            "_model_module_version": "1.5.0",
            "value": " 53%",
            "_view_count": null,
            "_view_module_version": "1.5.0",
            "description_tooltip": null,
            "_model_module": "@jupyter-widgets/controls",
            "layout": "IPY_MODEL_d775935bf24645e9b7113ef3067fd680"
          }
        },
        "f4d120fe473a47488522e2eed012c39a": {
          "model_module": "@jupyter-widgets/controls",
          "model_name": "FloatProgressModel",
          "model_module_version": "1.5.0",
          "state": {
            "_view_name": "ProgressView",
            "style": "IPY_MODEL_e08bd105fe0f47ef9fbbe6409369b745",
            "_dom_classes": [],
            "description": "",
            "_model_name": "FloatProgressModel",
            "bar_style": "info",
            "max": 1,
            "_view_module": "@jupyter-widgets/controls",
            "_model_module_version": "1.5.0",
            "value": 1,
            "_view_count": null,
            "_view_module_version": "1.5.0",
            "orientation": "horizontal",
            "min": 0,
            "description_tooltip": null,
            "_model_module": "@jupyter-widgets/controls",
            "layout": "IPY_MODEL_2bc2de05ba514302a7a2d8917e25356e"
          }
        },
        "e8ea8d4b43b74c99a42013b4c3270a42": {
          "model_module": "@jupyter-widgets/controls",
          "model_name": "HTMLModel",
          "model_module_version": "1.5.0",
          "state": {
            "_view_name": "HTMLView",
            "style": "IPY_MODEL_462b5a4347f74416b851bc93675ba14b",
            "_dom_classes": [],
            "description": "",
            "_model_name": "HTMLModel",
            "placeholder": "​",
            "_view_module": "@jupyter-widgets/controls",
            "_model_module_version": "1.5.0",
            "value": " 2605056/4924029 [00:00&lt;00:00, 9250149.02it/s]",
            "_view_count": null,
            "_view_module_version": "1.5.0",
            "description_tooltip": null,
            "_model_module": "@jupyter-widgets/controls",
            "layout": "IPY_MODEL_91d975e62ed04a73a6dbe9e04e683678"
          }
        },
        "87cd6b3bcf3844f980f6304dbc863329": {
          "model_module": "@jupyter-widgets/controls",
          "model_name": "DescriptionStyleModel",
          "model_module_version": "1.5.0",
          "state": {
            "_view_name": "StyleView",
            "_model_name": "DescriptionStyleModel",
            "description_width": "",
            "_view_module": "@jupyter-widgets/base",
            "_model_module_version": "1.5.0",
            "_view_count": null,
            "_view_module_version": "1.2.0",
            "_model_module": "@jupyter-widgets/controls"
          }
        },
        "d775935bf24645e9b7113ef3067fd680": {
          "model_module": "@jupyter-widgets/base",
          "model_name": "LayoutModel",
          "model_module_version": "1.2.0",
          "state": {
            "_view_name": "LayoutView",
            "grid_template_rows": null,
            "right": null,
            "justify_content": null,
            "_view_module": "@jupyter-widgets/base",
            "overflow": null,
            "_model_module_version": "1.2.0",
            "_view_count": null,
            "flex_flow": null,
            "width": null,
            "min_width": null,
            "border": null,
            "align_items": null,
            "bottom": null,
            "_model_module": "@jupyter-widgets/base",
            "top": null,
            "grid_column": null,
            "overflow_y": null,
            "overflow_x": null,
            "grid_auto_flow": null,
            "grid_area": null,
            "grid_template_columns": null,
            "flex": null,
            "_model_name": "LayoutModel",
            "justify_items": null,
            "grid_row": null,
            "max_height": null,
            "align_content": null,
            "visibility": null,
            "align_self": null,
            "height": null,
            "min_height": null,
            "padding": null,
            "grid_auto_rows": null,
            "grid_gap": null,
            "max_width": null,
            "order": null,
            "_view_module_version": "1.2.0",
            "grid_template_areas": null,
            "object_position": null,
            "object_fit": null,
            "grid_auto_columns": null,
            "margin": null,
            "display": null,
            "left": null
          }
        },
        "e08bd105fe0f47ef9fbbe6409369b745": {
          "model_module": "@jupyter-widgets/controls",
          "model_name": "ProgressStyleModel",
          "model_module_version": "1.5.0",
          "state": {
            "_view_name": "StyleView",
            "_model_name": "ProgressStyleModel",
            "description_width": "",
            "_view_module": "@jupyter-widgets/base",
            "_model_module_version": "1.5.0",
            "_view_count": null,
            "_view_module_version": "1.2.0",
            "bar_color": null,
            "_model_module": "@jupyter-widgets/controls"
          }
        },
        "2bc2de05ba514302a7a2d8917e25356e": {
          "model_module": "@jupyter-widgets/base",
          "model_name": "LayoutModel",
          "model_module_version": "1.2.0",
          "state": {
            "_view_name": "LayoutView",
            "grid_template_rows": null,
            "right": null,
            "justify_content": null,
            "_view_module": "@jupyter-widgets/base",
            "overflow": null,
            "_model_module_version": "1.2.0",
            "_view_count": null,
            "flex_flow": null,
            "width": "20px",
            "min_width": null,
            "border": null,
            "align_items": null,
            "bottom": null,
            "_model_module": "@jupyter-widgets/base",
            "top": null,
            "grid_column": null,
            "overflow_y": null,
            "overflow_x": null,
            "grid_auto_flow": null,
            "grid_area": null,
            "grid_template_columns": null,
            "flex": null,
            "_model_name": "LayoutModel",
            "justify_items": null,
            "grid_row": null,
            "max_height": null,
            "align_content": null,
            "visibility": null,
            "align_self": null,
            "height": null,
            "min_height": null,
            "padding": null,
            "grid_auto_rows": null,
            "grid_gap": null,
            "max_width": null,
            "order": null,
            "_view_module_version": "1.2.0",
            "grid_template_areas": null,
            "object_position": null,
            "object_fit": null,
            "grid_auto_columns": null,
            "margin": null,
            "display": null,
            "left": null
          }
        },
        "462b5a4347f74416b851bc93675ba14b": {
          "model_module": "@jupyter-widgets/controls",
          "model_name": "DescriptionStyleModel",
          "model_module_version": "1.5.0",
          "state": {
            "_view_name": "StyleView",
            "_model_name": "DescriptionStyleModel",
            "description_width": "",
            "_view_module": "@jupyter-widgets/base",
            "_model_module_version": "1.5.0",
            "_view_count": null,
            "_view_module_version": "1.2.0",
            "_model_module": "@jupyter-widgets/controls"
          }
        },
        "91d975e62ed04a73a6dbe9e04e683678": {
          "model_module": "@jupyter-widgets/base",
          "model_name": "LayoutModel",
          "model_module_version": "1.2.0",
          "state": {
            "_view_name": "LayoutView",
            "grid_template_rows": null,
            "right": null,
            "justify_content": null,
            "_view_module": "@jupyter-widgets/base",
            "overflow": null,
            "_model_module_version": "1.2.0",
            "_view_count": null,
            "flex_flow": null,
            "width": null,
            "min_width": null,
            "border": null,
            "align_items": null,
            "bottom": null,
            "_model_module": "@jupyter-widgets/base",
            "top": null,
            "grid_column": null,
            "overflow_y": null,
            "overflow_x": null,
            "grid_auto_flow": null,
            "grid_area": null,
            "grid_template_columns": null,
            "flex": null,
            "_model_name": "LayoutModel",
            "justify_items": null,
            "grid_row": null,
            "max_height": null,
            "align_content": null,
            "visibility": null,
            "align_self": null,
            "height": null,
            "min_height": null,
            "padding": null,
            "grid_auto_rows": null,
            "grid_gap": null,
            "max_width": null,
            "order": null,
            "_view_module_version": "1.2.0",
            "grid_template_areas": null,
            "object_position": null,
            "object_fit": null,
            "grid_auto_columns": null,
            "margin": null,
            "display": null,
            "left": null
          }
        },
        "f91564c8b01f40f3b37d1f17a374de65": {
          "model_module": "@jupyter-widgets/controls",
          "model_name": "HBoxModel",
          "model_module_version": "1.5.0",
          "state": {
            "_view_name": "HBoxView",
            "_dom_classes": [],
            "_model_name": "HBoxModel",
            "_view_module": "@jupyter-widgets/controls",
            "_model_module_version": "1.5.0",
            "_view_count": null,
            "_view_module_version": "1.5.0",
            "box_style": "",
            "layout": "IPY_MODEL_296cb236cd214c71912f119f5f8061ef",
            "_model_module": "@jupyter-widgets/controls",
            "children": [
              "IPY_MODEL_22e6c38334a8431382fdb6e01e3a6603",
              "IPY_MODEL_3f82733384fe42dcb996c57c8ef0568b",
              "IPY_MODEL_d1fa1512b05f4668b891321481f0211b"
            ]
          }
        },
        "296cb236cd214c71912f119f5f8061ef": {
          "model_module": "@jupyter-widgets/base",
          "model_name": "LayoutModel",
          "model_module_version": "1.2.0",
          "state": {
            "_view_name": "LayoutView",
            "grid_template_rows": null,
            "right": null,
            "justify_content": null,
            "_view_module": "@jupyter-widgets/base",
            "overflow": null,
            "_model_module_version": "1.2.0",
            "_view_count": null,
            "flex_flow": null,
            "width": null,
            "min_width": null,
            "border": null,
            "align_items": null,
            "bottom": null,
            "_model_module": "@jupyter-widgets/base",
            "top": null,
            "grid_column": null,
            "overflow_y": null,
            "overflow_x": null,
            "grid_auto_flow": null,
            "grid_area": null,
            "grid_template_columns": null,
            "flex": null,
            "_model_name": "LayoutModel",
            "justify_items": null,
            "grid_row": null,
            "max_height": null,
            "align_content": null,
            "visibility": null,
            "align_self": null,
            "height": null,
            "min_height": null,
            "padding": null,
            "grid_auto_rows": null,
            "grid_gap": null,
            "max_width": null,
            "order": null,
            "_view_module_version": "1.2.0",
            "grid_template_areas": null,
            "object_position": null,
            "object_fit": null,
            "grid_auto_columns": null,
            "margin": null,
            "display": null,
            "left": null
          }
        },
        "22e6c38334a8431382fdb6e01e3a6603": {
          "model_module": "@jupyter-widgets/controls",
          "model_name": "HTMLModel",
          "model_module_version": "1.5.0",
          "state": {
            "_view_name": "HTMLView",
            "style": "IPY_MODEL_814b724e7e0648d3a7bebc3894d8434c",
            "_dom_classes": [],
            "description": "",
            "_model_name": "HTMLModel",
            "placeholder": "​",
            "_view_module": "@jupyter-widgets/controls",
            "_model_module_version": "1.5.0",
            "value": "1/10 * Epoch (train):  65%",
            "_view_count": null,
            "_view_module_version": "1.5.0",
            "description_tooltip": null,
            "_model_module": "@jupyter-widgets/controls",
            "layout": "IPY_MODEL_768968ea4f3d4559ac0e64f1c7b71428"
          }
        },
        "3f82733384fe42dcb996c57c8ef0568b": {
          "model_module": "@jupyter-widgets/controls",
          "model_name": "FloatProgressModel",
          "model_module_version": "1.5.0",
          "state": {
            "_view_name": "ProgressView",
            "style": "IPY_MODEL_46b4461ae0e44aa0866cc31e7aa8545d",
            "_dom_classes": [],
            "description": "",
            "_model_name": "FloatProgressModel",
            "bar_style": "",
            "max": 943,
            "_view_module": "@jupyter-widgets/controls",
            "_model_module_version": "1.5.0",
            "value": 616,
            "_view_count": null,
            "_view_module_version": "1.5.0",
            "orientation": "horizontal",
            "min": 0,
            "description_tooltip": null,
            "_model_module": "@jupyter-widgets/controls",
            "layout": "IPY_MODEL_525587b4a41f4b268f6eca054ae674eb"
          }
        },
        "d1fa1512b05f4668b891321481f0211b": {
          "model_module": "@jupyter-widgets/controls",
          "model_name": "HTMLModel",
          "model_module_version": "1.5.0",
          "state": {
            "_view_name": "HTMLView",
            "style": "IPY_MODEL_fe89e7e6da3440c2b7099c909599e812",
            "_dom_classes": [],
            "description": "",
            "_model_name": "HTMLModel",
            "placeholder": "​",
            "_view_module": "@jupyter-widgets/controls",
            "_model_module_version": "1.5.0",
            "value": " 615/943 [00:12&lt;00:06, 48.23it/s, hitrate=0.004, hitrate01=0.004, hitrate03=0.009, hitrate05=0.015, loss=5.913, lr=0.100, map=1.000, map01=1.000, map03=0.733, map05=0.690, momentum=0.900, mrr=1.000, mrr01=1.000, mrr03=1.000, mrr05=1.000, ndcg=1.000, ndcg01=1.000, ndcg03=0.810, ndcg05=0.792]",
            "_view_count": null,
            "_view_module_version": "1.5.0",
            "description_tooltip": null,
            "_model_module": "@jupyter-widgets/controls",
            "layout": "IPY_MODEL_30380484df0f4b9a8472920fcbfbfa22"
          }
        },
        "814b724e7e0648d3a7bebc3894d8434c": {
          "model_module": "@jupyter-widgets/controls",
          "model_name": "DescriptionStyleModel",
          "model_module_version": "1.5.0",
          "state": {
            "_view_name": "StyleView",
            "_model_name": "DescriptionStyleModel",
            "description_width": "",
            "_view_module": "@jupyter-widgets/base",
            "_model_module_version": "1.5.0",
            "_view_count": null,
            "_view_module_version": "1.2.0",
            "_model_module": "@jupyter-widgets/controls"
          }
        },
        "768968ea4f3d4559ac0e64f1c7b71428": {
          "model_module": "@jupyter-widgets/base",
          "model_name": "LayoutModel",
          "model_module_version": "1.2.0",
          "state": {
            "_view_name": "LayoutView",
            "grid_template_rows": null,
            "right": null,
            "justify_content": null,
            "_view_module": "@jupyter-widgets/base",
            "overflow": null,
            "_model_module_version": "1.2.0",
            "_view_count": null,
            "flex_flow": null,
            "width": null,
            "min_width": null,
            "border": null,
            "align_items": null,
            "bottom": null,
            "_model_module": "@jupyter-widgets/base",
            "top": null,
            "grid_column": null,
            "overflow_y": null,
            "overflow_x": null,
            "grid_auto_flow": null,
            "grid_area": null,
            "grid_template_columns": null,
            "flex": null,
            "_model_name": "LayoutModel",
            "justify_items": null,
            "grid_row": null,
            "max_height": null,
            "align_content": null,
            "visibility": null,
            "align_self": null,
            "height": null,
            "min_height": null,
            "padding": null,
            "grid_auto_rows": null,
            "grid_gap": null,
            "max_width": null,
            "order": null,
            "_view_module_version": "1.2.0",
            "grid_template_areas": null,
            "object_position": null,
            "object_fit": null,
            "grid_auto_columns": null,
            "margin": null,
            "display": null,
            "left": null
          }
        },
        "46b4461ae0e44aa0866cc31e7aa8545d": {
          "model_module": "@jupyter-widgets/controls",
          "model_name": "ProgressStyleModel",
          "model_module_version": "1.5.0",
          "state": {
            "_view_name": "StyleView",
            "_model_name": "ProgressStyleModel",
            "description_width": "",
            "_view_module": "@jupyter-widgets/base",
            "_model_module_version": "1.5.0",
            "_view_count": null,
            "_view_module_version": "1.2.0",
            "bar_color": null,
            "_model_module": "@jupyter-widgets/controls"
          }
        },
        "525587b4a41f4b268f6eca054ae674eb": {
          "model_module": "@jupyter-widgets/base",
          "model_name": "LayoutModel",
          "model_module_version": "1.2.0",
          "state": {
            "_view_name": "LayoutView",
            "grid_template_rows": null,
            "right": null,
            "justify_content": null,
            "_view_module": "@jupyter-widgets/base",
            "overflow": null,
            "_model_module_version": "1.2.0",
            "_view_count": null,
            "flex_flow": null,
            "width": null,
            "min_width": null,
            "border": null,
            "align_items": null,
            "bottom": null,
            "_model_module": "@jupyter-widgets/base",
            "top": null,
            "grid_column": null,
            "overflow_y": null,
            "overflow_x": null,
            "grid_auto_flow": null,
            "grid_area": null,
            "grid_template_columns": null,
            "flex": null,
            "_model_name": "LayoutModel",
            "justify_items": null,
            "grid_row": null,
            "max_height": null,
            "align_content": null,
            "visibility": null,
            "align_self": null,
            "height": null,
            "min_height": null,
            "padding": null,
            "grid_auto_rows": null,
            "grid_gap": null,
            "max_width": null,
            "order": null,
            "_view_module_version": "1.2.0",
            "grid_template_areas": null,
            "object_position": null,
            "object_fit": null,
            "grid_auto_columns": null,
            "margin": null,
            "display": null,
            "left": null
          }
        },
        "fe89e7e6da3440c2b7099c909599e812": {
          "model_module": "@jupyter-widgets/controls",
          "model_name": "DescriptionStyleModel",
          "model_module_version": "1.5.0",
          "state": {
            "_view_name": "StyleView",
            "_model_name": "DescriptionStyleModel",
            "description_width": "",
            "_view_module": "@jupyter-widgets/base",
            "_model_module_version": "1.5.0",
            "_view_count": null,
            "_view_module_version": "1.2.0",
            "_model_module": "@jupyter-widgets/controls"
          }
        },
        "30380484df0f4b9a8472920fcbfbfa22": {
          "model_module": "@jupyter-widgets/base",
          "model_name": "LayoutModel",
          "model_module_version": "1.2.0",
          "state": {
            "_view_name": "LayoutView",
            "grid_template_rows": null,
            "right": null,
            "justify_content": null,
            "_view_module": "@jupyter-widgets/base",
            "overflow": null,
            "_model_module_version": "1.2.0",
            "_view_count": null,
            "flex_flow": null,
            "width": null,
            "min_width": null,
            "border": null,
            "align_items": null,
            "bottom": null,
            "_model_module": "@jupyter-widgets/base",
            "top": null,
            "grid_column": null,
            "overflow_y": null,
            "overflow_x": null,
            "grid_auto_flow": null,
            "grid_area": null,
            "grid_template_columns": null,
            "flex": null,
            "_model_name": "LayoutModel",
            "justify_items": null,
            "grid_row": null,
            "max_height": null,
            "align_content": null,
            "visibility": null,
            "align_self": null,
            "height": null,
            "min_height": null,
            "padding": null,
            "grid_auto_rows": null,
            "grid_gap": null,
            "max_width": null,
            "order": null,
            "_view_module_version": "1.2.0",
            "grid_template_areas": null,
            "object_position": null,
            "object_fit": null,
            "grid_auto_columns": null,
            "margin": null,
            "display": null,
            "left": null
          }
        }
      }
    }
  },
  "cells": [
    {
      "cell_type": "code",
      "metadata": {
        "colab": {
          "base_uri": "https://localhost:8080/"
        },
        "id": "mkWJbASCNnn2",
        "outputId": "3f2d8203-2e06-4bdc-b980-5422598bdb2f"
      },
      "source": [
        "!pip install -Uq catalyst"
      ],
      "execution_count": null,
      "outputs": [
        {
          "output_type": "stream",
          "name": "stdout",
          "text": [
            "\u001b[K     |████████████████████████████████| 556 kB 6.6 MB/s \n",
            "\u001b[K     |████████████████████████████████| 636 kB 57.6 MB/s \n",
            "\u001b[K     |████████████████████████████████| 120 kB 39.9 MB/s \n",
            "\u001b[?25h"
          ]
        }
      ]
    },
    {
      "cell_type": "markdown",
      "metadata": {
        "id": "brEU3Xj7Nnn4"
      },
      "source": [
        "# Seminar\n",
        "\n",
        "Hey! Today we are going to learn a recommendation system basis. We'll introduce metrics, an example dataset and couple of recommendation systems. \n",
        "\n",
        "Move on!"
      ]
    },
    {
      "cell_type": "code",
      "metadata": {
        "id": "lTfaqFo2Nnn5"
      },
      "source": [
        "from catalyst.utils import set_global_seed, get_device\n",
        "\n",
        "\n",
        "set_global_seed(42)\n",
        "device = get_device()"
      ],
      "execution_count": null,
      "outputs": []
    },
    {
      "cell_type": "markdown",
      "metadata": {
        "id": "rvpc6lVKNnn5"
      },
      "source": [
        "## Metrics\n",
        "\n",
        "Our example will be this. We have 6 documents, and our model predict some order on it. For example, we gave some users to say how relevant were these documents. Model prediction is `order`, and human score is `rel_score`."
      ]
    },
    {
      "cell_type": "code",
      "metadata": {
        "id": "iaz1i9jjNnn6"
      },
      "source": [
        "import numpy as np\n",
        "\n",
        "\n",
        "order = np.array([1, 2, 3, 4, 5, 6])\n",
        "rel_score = np.array([3, 2, 3, 0, 1, 2])"
      ],
      "execution_count": null,
      "outputs": []
    },
    {
      "cell_type": "markdown",
      "metadata": {
        "id": "KUtlCZklNnn6"
      },
      "source": [
        "How good is our model? Check by Discounted Cumulative Gain and HitRate."
      ]
    },
    {
      "cell_type": "markdown",
      "metadata": {
        "id": "81QFP4OsNnn7"
      },
      "source": [
        "### DCG\n",
        "\n",
        "It's most popular way to understand system perfomance. It's computed by formula:\n",
        "\n",
        "$$\n",
        "\\mathrm{DCG_{p}} = rel_1 + \\sum_{i=2}^{p} \\frac{rel_{i}}{\\log_{2}(i+1)}\n",
        "$$\n",
        "\n",
        "Implement it!"
      ]
    },
    {
      "cell_type": "code",
      "metadata": {
        "colab": {
          "base_uri": "https://localhost:8080/"
        },
        "id": "m0ZlH8BONnn7",
        "outputId": "8aff514e-9c2c-464c-e162-228847287db0"
      },
      "source": [
        "DCG_3 = rel_score[0] + np.sum(rel_score[1:3] / np.log2(order[1:3] + 1))\n",
        "DCG_6 = rel_score[0] + np.sum(rel_score[1:] / np.log2(order[1:] + 1))\n",
        "assert np.isclose(DCG_3, 5.7618595)\n",
        "assert np.isclose(DCG_6, 6.8611266)\n",
        "print(f\"DCG_3: {DCG_3}, DCG_6: {DCG_6}\")"
      ],
      "execution_count": null,
      "outputs": [
        {
          "output_type": "stream",
          "name": "stdout",
          "text": [
            "DCG_3: 5.7618595071429155, DCG_6: 6.861126688593501\n"
          ]
        }
      ]
    },
    {
      "cell_type": "markdown",
      "metadata": {
        "id": "1WIKXNuENnn7"
      },
      "source": [
        "The gain formula can be changed to the exponantial form. And we will get another DCG formulation.\n",
        "\n",
        "$$\n",
        "\\mathrm{DCG_{p}} = \\sum_{i=1}^{p} \\frac{2^{\\text{rel}_{i}} - 1}{\\log_{2}(i+1)}\n",
        "$$"
      ]
    },
    {
      "cell_type": "code",
      "metadata": {
        "colab": {
          "base_uri": "https://localhost:8080/"
        },
        "id": "lkgxgtLBNnn8",
        "outputId": "a03c27c4-22a2-4561-9200-c9000d9f0b85"
      },
      "source": [
        "DCG_6 = np.sum((2**rel_score - 1) / np.log2(order + 1))\n",
        "assert np.isclose(DCG_6, 13.8482636)\n",
        "print(f\"Exponantial DCG_6: {DCG_6}\")"
      ],
      "execution_count": null,
      "outputs": [
        {
          "output_type": "stream",
          "name": "stdout",
          "text": [
            "Exponantial DCG_6: 13.848263629272981\n"
          ]
        }
      ]
    },
    {
      "cell_type": "markdown",
      "metadata": {
        "id": "ZQgSod1NNnn8"
      },
      "source": [
        "Usually Normal DCG is used. Formula:\n",
        "\n",
        "$$ \n",
        "\\mathrm{nDCG_{p}} = \\frac{DCG_{p}}{IDCG_{p}}\n",
        "$$\n",
        "\n",
        "IDCG is ideal DCG. It's calculated when system order is gotten by human relevance score:"
      ]
    },
    {
      "cell_type": "code",
      "metadata": {
        "id": "Oft6VWUwNnn8"
      },
      "source": [
        "ideal_order = np.array([1, 4, 2, 6, 5, 3])"
      ],
      "execution_count": null,
      "outputs": []
    },
    {
      "cell_type": "code",
      "metadata": {
        "colab": {
          "base_uri": "https://localhost:8080/"
        },
        "id": "oTOoRvv_Nnn9",
        "outputId": "886c41dc-ff5e-43ee-ec5b-bddd3d6e14a8"
      },
      "source": [
        "IDCG_6 = np.sum((2**rel_score - 1) / np.log2(ideal_order + 1))\n",
        "assert np.isclose(IDCG_6, 14.59539075)\n",
        "print(f\"IDCG_6: {IDCG_6}\")"
      ],
      "execution_count": null,
      "outputs": [
        {
          "output_type": "stream",
          "name": "stdout",
          "text": [
            "IDCG_6: 14.595390756454924\n"
          ]
        }
      ]
    },
    {
      "cell_type": "code",
      "metadata": {
        "colab": {
          "base_uri": "https://localhost:8080/"
        },
        "id": "Vmj3S9jNNnn9",
        "outputId": "a98bbc69-2950-446d-fc0b-76c999fefa1a"
      },
      "source": [
        "NDCG_6 = DCG_6 / IDCG_6\n",
        "assert np.isclose(NDCG_6, 0.9488107)\n",
        "print(f\"NDCG_6: {NDCG_6}\")"
      ],
      "execution_count": null,
      "outputs": [
        {
          "output_type": "stream",
          "name": "stdout",
          "text": [
            "NDCG_6: 0.9488107485678985\n"
          ]
        }
      ]
    },
    {
      "cell_type": "markdown",
      "metadata": {
        "id": "P6IetNVcNnn9"
      },
      "source": [
        "There is a implemented function to calculate ndcg in Catalyst."
      ]
    },
    {
      "cell_type": "code",
      "metadata": {
        "id": "Aqbqye_YNnn9"
      },
      "source": [
        "import torch\n",
        "\n",
        "from catalyst import metrics"
      ],
      "execution_count": null,
      "outputs": []
    },
    {
      "cell_type": "code",
      "metadata": {
        "id": "-Oi70kSHNnn-"
      },
      "source": [
        "our_score = 1 / order # Higher score – higher raiting"
      ],
      "execution_count": null,
      "outputs": []
    },
    {
      "cell_type": "code",
      "metadata": {
        "colab": {
          "base_uri": "https://localhost:8080/"
        },
        "id": "Q875Q96BNnn-",
        "outputId": "29e1ca83-f9e8-413f-d13a-0518f7793c64"
      },
      "source": [
        "t_our_score = torch.tensor([our_score])\n",
        "t_rel_score = torch.tensor([rel_score])\n",
        "print(f\"NDCG: {metrics.ndcg(t_our_score, t_rel_score, topk=[2, 3, 6])}\")"
      ],
      "execution_count": null,
      "outputs": [
        {
          "output_type": "stream",
          "name": "stdout",
          "text": [
            "NDCG: [tensor(0.7789), tensor(0.9595), tensor(0.9488)]\n"
          ]
        }
      ]
    },
    {
      "cell_type": "markdown",
      "metadata": {
        "id": "4eWCZW6fNnn-"
      },
      "source": [
        "### Hit Rate\n",
        "\n",
        "Another way to get the system performance is HitRate. To calculate it, we need to count how many times an item from the system order is relevent for user. Example:"
      ]
    },
    {
      "cell_type": "code",
      "metadata": {
        "colab": {
          "base_uri": "https://localhost:8080/"
        },
        "id": "mMAY8W52Nnn-",
        "outputId": "48bd6f46-ebad-433e-d5c5-a559065c9941"
      },
      "source": [
        "one_user_rel_score = rel_score // 3 # <-- only two documents are relevent for one user\n",
        "print(f\"New rel_score: {one_user_rel_score}\")"
      ],
      "execution_count": null,
      "outputs": [
        {
          "output_type": "stream",
          "name": "stdout",
          "text": [
            "New rel_score: [1 0 1 0 0 0]\n"
          ]
        }
      ]
    },
    {
      "cell_type": "code",
      "metadata": {
        "colab": {
          "base_uri": "https://localhost:8080/"
        },
        "id": "Yr8pwvzDNnn-",
        "outputId": "75201ba7-45f1-4355-8be0-40990faf2cb1"
      },
      "source": [
        "hitrate = one_user_rel_score.mean()\n",
        "assert np.isclose(hitrate, 0.33333)\n",
        "print(f\"HitRate: {hitrate}\")"
      ],
      "execution_count": null,
      "outputs": [
        {
          "output_type": "stream",
          "name": "stdout",
          "text": [
            "HitRate: 0.3333333333333333\n"
          ]
        }
      ]
    },
    {
      "cell_type": "code",
      "metadata": {
        "colab": {
          "base_uri": "https://localhost:8080/"
        },
        "id": "KjxBjnA-Nnn_",
        "outputId": "370c7029-3381-45b2-b75d-9fd16373bdb1"
      },
      "source": [
        "one_user_t_rel_score = t_rel_score // 3"
      ],
      "execution_count": null,
      "outputs": [
        {
          "output_type": "stream",
          "name": "stderr",
          "text": [
            "/usr/local/lib/python3.7/dist-packages/torch/_tensor.py:575: UserWarning: floor_divide is deprecated, and will be removed in a future version of pytorch. It currently rounds toward 0 (like the 'trunc' function NOT 'floor'). This results in incorrect rounding for negative values.\n",
            "To keep the current behavior, use torch.div(a, b, rounding_mode='trunc'), or for actual floor division, use torch.div(a, b, rounding_mode='floor'). (Triggered internally at  /pytorch/aten/src/ATen/native/BinaryOps.cpp:467.)\n",
            "  return torch.floor_divide(self, other)\n"
          ]
        }
      ]
    },
    {
      "cell_type": "code",
      "metadata": {
        "colab": {
          "base_uri": "https://localhost:8080/"
        },
        "id": "jxpaQZx1Nnn_",
        "outputId": "8ea4e8ab-4424-4713-ebe9-4af0e6c647bf"
      },
      "source": [
        "print(f\"HitRate: {metrics.hitrate(t_our_score, one_user_t_rel_score, topk=[2])}\")"
      ],
      "execution_count": null,
      "outputs": [
        {
          "output_type": "stream",
          "name": "stdout",
          "text": [
            "HitRate: [tensor(0.5000)]\n"
          ]
        }
      ]
    },
    {
      "cell_type": "markdown",
      "metadata": {
        "id": "Ahx65ACrNnoA"
      },
      "source": [
        "## Movie Lens Dataset\n",
        "\n",
        "\n",
        "MovieLens Dataset contains users score of some movies. `0` means that an user hasn't set raiting. An user can set raiting from `1` to `5`."
      ]
    },
    {
      "cell_type": "code",
      "metadata": {
        "colab": {
          "base_uri": "https://localhost:8080/",
          "height": 84,
          "referenced_widgets": [
            "11f09a5db055458c97c3aee61815a911",
            "ed86db49d27049089d56aa28c8deafa5",
            "4b1bbc8cd2c4451095047a013e3131f9",
            "f4d120fe473a47488522e2eed012c39a",
            "e8ea8d4b43b74c99a42013b4c3270a42",
            "87cd6b3bcf3844f980f6304dbc863329",
            "d775935bf24645e9b7113ef3067fd680",
            "e08bd105fe0f47ef9fbbe6409369b745",
            "2bc2de05ba514302a7a2d8917e25356e",
            "462b5a4347f74416b851bc93675ba14b",
            "91d975e62ed04a73a6dbe9e04e683678"
          ]
        },
        "id": "hlq5y7jtNnoA",
        "outputId": "82e11e0c-a9c2-42f5-9606-e13998c2befd"
      },
      "source": [
        "from catalyst.contrib.datasets import MovieLens\n",
        "\n",
        "\n",
        "train_dataset = MovieLens(root=\".\", train=True, download=True)\n",
        "test_dataset = MovieLens(root=\".\", train=False, download=True)"
      ],
      "execution_count": null,
      "outputs": [
        {
          "output_type": "stream",
          "name": "stdout",
          "text": [
            "Downloading http://files.grouplens.org/datasets/movielens/ml-100k.zip to ./MovieLens/raw/ml-100k.zip\n"
          ]
        },
        {
          "output_type": "display_data",
          "data": {
            "application/vnd.jupyter.widget-view+json": {
              "model_id": "11f09a5db055458c97c3aee61815a911",
              "version_minor": 0,
              "version_major": 2
            },
            "text/plain": [
              "0it [00:00, ?it/s]"
            ]
          },
          "metadata": {}
        },
        {
          "output_type": "stream",
          "name": "stdout",
          "text": [
            "Extracting ./MovieLens/raw/ml-100k.zip to ./MovieLens/raw\n"
          ]
        }
      ]
    },
    {
      "cell_type": "markdown",
      "metadata": {
        "id": "2RqXjJeRNnoA"
      },
      "source": [
        "We'll try to train model to find high scored unseed movies. "
      ]
    },
    {
      "cell_type": "code",
      "metadata": {
        "id": "-nT1Twj7NnoB"
      },
      "source": [
        "import typing as tp\n",
        "\n",
        "from catalyst.utils import get_loader\n",
        "\n",
        "\n",
        "def dist_transform(row: tp.Dict[str, tp.Any]) -> tp.Dict[str, tp.Any]:\n",
        "    raitings = row[\"raitings\"]\n",
        "    movie_ids = torch.arange(raitings.size(0))[raitings > 0]\n",
        "    user_ids = (\n",
        "        torch.zeros_like(movie_ids).type(torch.LongTensor) + row[\"user_id\"]\n",
        "    )\n",
        "    targets = (raitings[raitings > 0] / 5.0).type(torch.FloatTensor)\n",
        "    return {\"user_ids\": user_ids, \"movie_ids\": movie_ids, \"targets\": targets}\n",
        "\n",
        "\n",
        "def collate_fn(\n",
        "    batch: tp.Sequence[tp.Dict[str, torch.Tensor]]\n",
        ") -> tp.Dict[str, torch.Tensor]:\n",
        "    user_ids = torch.cat([b[\"user_ids\"] for b in batch])\n",
        "    movie_ids = torch.cat([b[\"movie_ids\"] for b in batch])\n",
        "    targets = torch.cat([b[\"targets\"] for b in batch])\n",
        "    return {\"user_ids\": user_ids, \"movie_ids\": movie_ids, \"targets\": targets}"
      ],
      "execution_count": null,
      "outputs": []
    },
    {
      "cell_type": "code",
      "metadata": {
        "colab": {
          "base_uri": "https://localhost:8080/"
        },
        "id": "AkcyKs96NnoB",
        "outputId": "ef446aa6-a73f-4612-9635-ebdbd5f5fb00"
      },
      "source": [
        "user_indexes = torch.arange(len(train_dataset))\n",
        "\n",
        "train_dataloader = get_loader(\n",
        "    user_indexes,\n",
        "    open_fn=lambda x: {\"user_id\": x, \"raitings\": train_dataset[x]},\n",
        "    dict_transform=dist_transform,\n",
        "    batch_size=1,\n",
        "    num_workers=4,\n",
        "    shuffle=True,\n",
        "    drop_last=True,\n",
        "    collate_fn=collate_fn\n",
        ")\n",
        "\n",
        "valid_dataloader = get_loader(\n",
        "    user_indexes,\n",
        "    open_fn=lambda x: {\"user_id\": x, \"raitings\": test_dataset[x]},\n",
        "    dict_transform=dist_transform,\n",
        "    batch_size=1,\n",
        "    num_workers=4,\n",
        "    shuffle=True,\n",
        "    drop_last=True,\n",
        "    collate_fn=collate_fn\n",
        ")"
      ],
      "execution_count": null,
      "outputs": [
        {
          "output_type": "stream",
          "name": "stderr",
          "text": [
            "/usr/local/lib/python3.7/dist-packages/torch/utils/data/dataloader.py:481: UserWarning: This DataLoader will create 4 worker processes in total. Our suggested max number of worker in current system is 2, which is smaller than what this DataLoader is going to create. Please be aware that excessive worker creation might get DataLoader running slow or even freeze, lower the worker number to avoid potential slowness/freeze if necessary.\n",
            "  cpuset_checked))\n"
          ]
        }
      ]
    },
    {
      "cell_type": "markdown",
      "metadata": {
        "id": "kTf8AuYYNnoB"
      },
      "source": [
        "## Funk SVD\n",
        "\n",
        "\n",
        "A first method it's SVD base. Instead of calculating true SVD matrices, we will find them by fitting!\n",
        "\n",
        "These implementation based on this [medium post](https://medium.com/datadriveninvestor/how-funk-singular-value-decomposition-algorithm-work-in-recommendation-engines-36f2fbf62cac)."
      ]
    },
    {
      "cell_type": "code",
      "metadata": {
        "id": "F85hHEmwNnoC"
      },
      "source": [
        "import torch\n",
        "import torch.nn as nn\n",
        "\n",
        "\n",
        "class FunkSVD(nn.Module):\n",
        "    def __init__(self, user_num: int, item_num: int, embedding_dim: int):\n",
        "        super().__init__()\n",
        "        \n",
        "        self.user_embeddings = nn.Embedding(user_num, embedding_dim)\n",
        "        self.item_embeddings = nn.Embedding(item_num, embedding_dim)\n",
        "        \n",
        "        self.user_bias = nn.Embedding(user_num, 1)\n",
        "        self.item_bias = nn.Embedding(item_num, 1)\n",
        "        \n",
        "        self.bias = torch.nn.Parameter(torch.zeros(1))\n",
        "        self.embedding_dim = embedding_dim\n",
        "            \n",
        "    def forward(\n",
        "        self, user_ids: torch.Tensor, movie_ids: torch.Tensor\n",
        "    ) -> torch.Tensor:\n",
        "        user_embedding = self.user_embeddings(user_ids)\n",
        "        user_bias = self.user_bias(user_ids).reshape(-1)\n",
        "        item_embedding = self.item_embeddings(movie_ids)\n",
        "        item_bias = self.item_bias(movie_ids).reshape(-1)\n",
        "        dot = torch.einsum(\"oi,oj->o\", user_embedding, item_embedding)\n",
        "        output = dot + user_bias + item_bias + self.bias\n",
        "        return output"
      ],
      "execution_count": null,
      "outputs": []
    },
    {
      "cell_type": "code",
      "metadata": {
        "id": "JKUAgVBSNnoC"
      },
      "source": [
        "from catalyst.contrib.nn import RAdam\n",
        "\n",
        "\n",
        "model = FunkSVD(len(train_dataset), len(train_dataset[0]), 16)\n",
        "optimizer = RAdam(model.parameters(), lr=1e-1)\n",
        "criterion = nn.BCEWithLogitsLoss()"
      ],
      "execution_count": null,
      "outputs": []
    },
    {
      "cell_type": "code",
      "metadata": {
        "id": "iO3MpOIeNnoC"
      },
      "source": [
        "from catalyst.dl import SupervisedRunner\n",
        "\n",
        "class RecSysRunner(SupervisedRunner):\n",
        "  def handle_batch(self, batch):\n",
        "    logits = self.model(batch[\"user_ids\"], batch[\"movie_ids\"])\n",
        "    sorted_indeces = torch.argsort(logits, descending=True)\n",
        "    self.batch[\"targets\"] = batch[\"targets\"][None, sorted_indeces]\n",
        "    self.batch[\"logits\"] = logits[None, sorted_indeces]\n",
        "\n",
        "runner = RecSysRunner()"
      ],
      "execution_count": null,
      "outputs": []
    },
    {
      "cell_type": "code",
      "metadata": {
        "id": "qVxil4TeNnoD"
      },
      "source": [
        "from catalyst import dl\n",
        "\n",
        " \n",
        " \n",
        "callbacks = [\n",
        "    dl.NDCGCallback(\"logits\", \"targets\", [1,3,5]),\n",
        "    dl.MAPCallback(\"logits\", \"targets\", [1,3,5]),\n",
        "    dl.MRRCallback(\"logits\", \"targets\", [1,3,5]),\n",
        "    dl.HitrateCallback(\"logits\", \"targets\", [1,3,5]),\n",
        "    dl.OptimizerCallback(\"loss\", accumulation_steps=64)\n",
        "]"
      ],
      "execution_count": null,
      "outputs": []
    },
    {
      "cell_type": "code",
      "metadata": {
        "id": "uiqzaBtmNnoD",
        "colab": {
          "base_uri": "https://localhost:8080/",
          "height": 255,
          "referenced_widgets": [
            "f91564c8b01f40f3b37d1f17a374de65",
            "296cb236cd214c71912f119f5f8061ef",
            "22e6c38334a8431382fdb6e01e3a6603",
            "3f82733384fe42dcb996c57c8ef0568b",
            "d1fa1512b05f4668b891321481f0211b",
            "814b724e7e0648d3a7bebc3894d8434c",
            "768968ea4f3d4559ac0e64f1c7b71428",
            "46b4461ae0e44aa0866cc31e7aa8545d",
            "525587b4a41f4b268f6eca054ae674eb",
            "fe89e7e6da3440c2b7099c909599e812",
            "30380484df0f4b9a8472920fcbfbfa22",
            "7ee39209fe26452ab7cc4a3eb966ffb8"
          ]
        },
        "outputId": "85d8a36b-b50a-4c48-94c1-cb8774b70dd1"
      },
      "source": [
        "from pathlib import Path\n",
        "from datetime import datetime\n",
        " \n",
        "runner.train(\n",
        "    model=model,\n",
        "    optimizer=optimizer,\n",
        "    loaders={\"train\": train_dataloader, \"valid\": valid_dataloader},\n",
        "    criterion=criterion,\n",
        "    callbacks=callbacks,\n",
        "    logdir=Path(\"logs\") / datetime.now().strftime(\"%Y%m%d-%H%M%S\"),\n",
        "    num_epochs=10,\n",
        "    verbose=True,\n",
        ")"
      ],
      "execution_count": null,
      "outputs": [
        {
          "data": {
            "application/vnd.jupyter.widget-view+json": {
              "model_id": "f91564c8b01f40f3b37d1f17a374de65",
              "version_major": 2,
              "version_minor": 0
            },
            "text/plain": [
              "1/10 * Epoch (train):   0%|          | 0/943 [00:00<?, ?it/s]"
            ]
          },
          "metadata": {},
          "output_type": "display_data"
        },
        {
          "metadata": {
            "tags": null
          },
          "name": "stderr",
          "output_type": "stream",
          "text": [
            "/usr/local/lib/python3.7/dist-packages/torch/utils/data/dataloader.py:481: UserWarning: This DataLoader will create 4 worker processes in total. Our suggested max number of worker in current system is 2, which is smaller than what this DataLoader is going to create. Please be aware that excessive worker creation might get DataLoader running slow or even freeze, lower the worker number to avoid potential slowness/freeze if necessary.\n",
            "  cpuset_checked))\n",
            "/usr/local/lib/python3.7/dist-packages/catalyst/contrib/nn/optimizers/radam.py:79: UserWarning: This overload of addcmul_ is deprecated:\n",
            "\taddcmul_(Number value, Tensor tensor1, Tensor tensor2)\n",
            "Consider using one of the following signatures instead:\n",
            "\taddcmul_(Tensor tensor1, Tensor tensor2, *, Number value) (Triggered internally at  /pytorch/torch/csrc/utils/python_arg_parser.cpp:1025.)\n",
            "  exp_avg_sq.mul_(beta2).addcmul_(1 - beta2, grad, grad)\n"
          ]
        },
        {
          "metadata": {
            "tags": null
          },
          "name": "stdout",
          "output_type": "stream",
          "text": [
            "train (1/10) hitrate: 0.028988927511907216 | hitrate/std: 0.030751171568569997 | hitrate01: 0.028988927511907216 | hitrate01/std: 0.030751171568569997 | hitrate03: 0.08623287676831584 | hitrate03/std: 0.08554240015799963 | hitrate05: 0.14414189905639302 | hitrate05/std: 0.13978838106945318 | loss: 3.7712552967489206 | loss/mean: 3.7712552967489206 | loss/std: 2.7642129422269477 | lr: 0.1 | map: 0.5456627993938269 | map/std: 0.2959854550978832 | map01: 0.5456627993938269 | map01/std: 0.2959854550978832 | map03: 0.5253611592573934 | map03/std: 0.20979011656010113 | map05: 0.5246050405856285 | map05/std: 0.1833438686715918 | momentum: 0.9 | mrr: 1.0 | mrr/std: 0.0 | mrr01: 1.0 | mrr01/std: 0.0 | mrr03: 0.7251679059809358 | mrr03/std: 0.2928744322605257 | mrr05: 0.6089254173658574 | mrr05/std: 0.3283700533271827 | ndcg: 0.6547698342218627 | ndcg/std: 0.24802829040607835 | ndcg01: 0.6547698342218627 | ndcg01/std: 0.24802829040607835 | ndcg03: 0.6590796689782396 | ndcg03/std: 0.169571895190057 | ndcg05: 0.6721123901619509 | ndcg05/std: 0.14646674743677499\n"
          ]
        },
        {
          "data": {
            "application/vnd.jupyter.widget-view+json": {
              "model_id": "7ee39209fe26452ab7cc4a3eb966ffb8",
              "version_major": 2,
              "version_minor": 0
            },
            "text/plain": [
              "1/10 * Epoch (valid):   0%|          | 0/943 [00:00<?, ?it/s]"
            ]
          },
          "metadata": {},
          "output_type": "display_data"
        }
      ]
    },
    {
      "cell_type": "markdown",
      "metadata": {
        "id": "QibQ3rKbNnoD"
      },
      "source": [
        "## Neural Collaborative Filtering\n",
        "\n",
        "\n",
        "Second method it's calculating user and item embeddings. To score user-item pair relevance, we aare going to concatinating vectors and pass forward through a neural network.\n",
        "\n",
        "This method based on NCF article: [arxiv](https://arxiv.org/pdf/1708.05031.pdf). "
      ]
    },
    {
      "cell_type": "code",
      "metadata": {
        "id": "K2zb2eeqNnoD"
      },
      "source": [
        "class NСF(nn.Module):\n",
        "    def __init__(\n",
        "        self, user_num: int, item_num: int, embedding_dim: int, hidden_dim: int\n",
        "    ):\n",
        "        super().__init__()\n",
        " \n",
        "        self.user_embeddings = nn.Embedding(user_num, embedding_dim)\n",
        "        self.item_embeddings = nn.Embedding(item_num, embedding_dim)\n",
        " \n",
        "        self.layers = nn.Sequential(\n",
        "            nn.Linear(2 * embedding_dim, hidden_dim),\n",
        "            nn.ReLU(),\n",
        "            nn.Linear(hidden_dim, hidden_dim),\n",
        "            nn.ReLU(),\n",
        "            nn.Linear(hidden_dim, 1),\n",
        "        )\n",
        " \n",
        "    def forward(\n",
        "        self, user_ids: torch.Tensor, movie_ids: torch.Tensor\n",
        "    ) -> torch.Tensor:\n",
        "        user_embedding = self.user_embeddings(user_ids)\n",
        "        item_embedding = self.item_embeddings(movie_ids)\n",
        "        concat = torch.cat((user_embedding, item_embedding), -1)\n",
        "        return self.layers(concat).view(-1)"
      ],
      "execution_count": null,
      "outputs": []
    },
    {
      "cell_type": "code",
      "metadata": {
        "id": "VEnBqdeBNnoE"
      },
      "source": [
        "from catalyst.contrib.nn import RAdam\n",
        "\n",
        "model = NСF(len(train_dataset), len(train_dataset[0]), 64, 64)\n",
        "optimizer = RAdam(model.parameters(), lr=1e-2)\n",
        "criterion = nn.BCEWithLogitsLoss()"
      ],
      "execution_count": null,
      "outputs": []
    },
    {
      "cell_type": "code",
      "metadata": {
        "id": "eOjeabjQNnoE"
      },
      "source": [
        "runner = RecSysRunner()"
      ],
      "execution_count": null,
      "outputs": []
    },
    {
      "cell_type": "code",
      "metadata": {
        "id": "4NL4AztiNnoE"
      },
      "source": [
        "runner.train(\n",
        "    model=model,\n",
        "    optimizer=optimizer,\n",
        "    loaders={\"train\": train_dataloader, \"valid\": valid_dataloader},\n",
        "    criterion=criterion,\n",
        "    callbacks=callbacks,\n",
        "    logdir=Path(\"logs\") / datetime.now().strftime(\"%Y%m%d-%H%M%S\"),\n",
        "    num_epochs=5,\n",
        "    verbose=True,\n",
        ")"
      ],
      "execution_count": null,
      "outputs": []
    },
    {
      "cell_type": "code",
      "metadata": {
        "id": "1kiNbKTd_Pcy"
      },
      "source": [
        ""
      ],
      "execution_count": null,
      "outputs": []
    }
  ]
}